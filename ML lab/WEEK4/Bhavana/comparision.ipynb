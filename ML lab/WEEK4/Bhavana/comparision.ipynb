{
 "cells": [
  {
   "cell_type": "code",
   "execution_count": 6,
   "id": "dd2dab96",
   "metadata": {},
   "outputs": [
    {
     "name": "stdout",
     "output_type": "stream",
     "text": [
      "The fitted regression equation is:\n",
      "gold_price = -1665274.6592506964 + 837.8906582357138 year + 0.033549462246685126 silver_price\n",
      "The MSE is: 35896032.12292605\n",
      "The RMSE is: 5991.329745801515\n",
      "The predicted gold price for the year 2024 is: 30617.710491500653\n",
      "The coefficients of the sklearn model are:\n",
      "b0 = -1665274.6592506964\n",
      "b1 = 837.8906582357138\n",
      "b2 = 0.033549462246685126\n"
     ]
    }
   ],
   "source": [
    "import pandas as pd\n",
    "import numpy as np\n",
    "from sklearn.linear_model import LinearRegression\n",
    "\n",
    "# Load the gold price data\n",
    "gold_price_data = pd.read_csv(\"annual_gold_price.csv\")\n",
    "\n",
    "# Load the silver price data\n",
    "silver_price_data = pd.read_csv(\"silver_rates.csv\")\n",
    "\n",
    "# Combine the two data sets\n",
    "data = pd.merge(gold_price_data, silver_price_data, on=\"Year\")\n",
    "\n",
    "# Separate the independent and dependent variables\n",
    "x = data[[\"Year\", \"Silver Rates in Rs./Kg\"]]\n",
    "y = data[\"Price\"]\n",
    "\n",
    "# Fit the linear regression model\n",
    "model = LinearRegression()\n",
    "model.fit(x, y)\n",
    "\n",
    "# Get the coefficients\n",
    "b0 = model.intercept_\n",
    "b1 = model.coef_[0]\n",
    "b2 = model.coef_[1]\n",
    "\n",
    "# Print the fitted regression equation\n",
    "print(\"The fitted regression equation is:\")\n",
    "print(\"gold_price = \" + str(b0) + \" + \" + str(b1) + \" year + \" + str(b2) + \" silver_price\")\n",
    "\n",
    "# Compute the error, MSE, and RMSE\n",
    "error = y - model.predict(x)\n",
    "mse = np.mean(error**2)\n",
    "rmse = np.sqrt(mse)\n",
    "\n",
    "# Print the error, MSE, and RMSE\n",
    "#print(\"The error is: \" + str(error))\n",
    "print(\"The MSE is: \" + str(mse))\n",
    "print(\"The RMSE is: \" + str(rmse))\n",
    "\n",
    "# Predict the gold price for the year 2024\n",
    "year_2024 = 2024\n",
    "silver_price_2024 = 50\n",
    "predicted_gold_price_2024 = b0 + b1 * year_2024 + b2 * silver_price_2024\n",
    "\n",
    "print(\"The predicted gold price for the year 2024 is: \" + str(predicted_gold_price_2024))\n",
    "\n",
    "# Compare the coefficients obtained from the sklearn model with the program\n",
    "from sklearn.metrics import mean_squared_error\n",
    "\n",
    "# Fit the sklearn linear regression model\n",
    "sklearn_model = LinearRegression()\n",
    "sklearn_model.fit(x, y)\n",
    "\n",
    "# Get the coefficients of the sklearn model\n",
    "sklearn_b0 = sklearn_model.intercept_\n",
    "sklearn_b1 = sklearn_model.coef_[0]\n",
    "sklearn_b2 = sklearn_model.coef_[1]\n",
    "\n",
    "# Compare the coefficients\n",
    "print(\"The coefficients of the sklearn model are:\")\n",
    "print(\"b0 = \" + str(sklearn_b0))\n",
    "print(\"b1 = \" + str(sklearn_b1))\n",
    "print(\"b2 = \" + str(sklearn_b2))\n"
   ]
  },
  {
   "cell_type": "code",
   "execution_count": 7,
   "id": "90cf495d",
   "metadata": {},
   "outputs": [
    {
     "name": "stdout",
     "output_type": "stream",
     "text": [
      "The difference between the coefficients are:\n",
      "b0 = 0.0\n",
      "b1 = 0.0\n",
      "b2 = 0.0\n"
     ]
    }
   ],
   "source": [
    "# Compare the coefficients\n",
    "print(\"The difference between the coefficients are:\")\n",
    "print(\"b0 = \" + str(b0 - sklearn_b0))\n",
    "print(\"b1 = \" + str(b1 - sklearn_b1))\n",
    "print(\"b2 = \" + str(b2 - sklearn_b2))"
   ]
  }
 ],
 "metadata": {
  "kernelspec": {
   "display_name": "Python 3 (ipykernel)",
   "language": "python",
   "name": "python3"
  },
  "language_info": {
   "codemirror_mode": {
    "name": "ipython",
    "version": 3
   },
   "file_extension": ".py",
   "mimetype": "text/x-python",
   "name": "python",
   "nbconvert_exporter": "python",
   "pygments_lexer": "ipython3",
   "version": "3.10.12"
  }
 },
 "nbformat": 4,
 "nbformat_minor": 5
}
