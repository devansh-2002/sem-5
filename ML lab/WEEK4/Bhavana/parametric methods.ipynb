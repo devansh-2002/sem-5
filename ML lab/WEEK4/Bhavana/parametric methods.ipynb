{
 "cells": [
  {
   "cell_type": "markdown",
   "id": "10ff3c5a",
   "metadata": {},
   "source": [
    "WEEK 4: PARAMETRIC METHODS"
   ]
  },
  {
   "cell_type": "markdown",
   "id": "7ccb5303",
   "metadata": {},
   "source": [
    "importing necessary libraries"
   ]
  },
  {
   "cell_type": "code",
   "execution_count": 1,
   "id": "d7da0d44",
   "metadata": {},
   "outputs": [],
   "source": [
    "import pandas as pd\n",
    "import numpy as np\n",
    "from matplotlib import pyplot as plt\n",
    "from sklearn.linear_model import LinearRegression\n",
    "from sklearn.model_selection import train_test_split"
   ]
  },
  {
   "cell_type": "markdown",
   "id": "1b35f6d2",
   "metadata": {},
   "source": [
    "reading dataset"
   ]
  },
  {
   "cell_type": "code",
   "execution_count": 2,
   "id": "3fd97684",
   "metadata": {},
   "outputs": [],
   "source": [
    "annual_gold_price = pd.read_csv('annual_gold_price.csv')\n",
    "# annual_gold_price = annual_gold_price.to_numpy()\n",
    "# annual_gold_price"
   ]
  },
  {
   "cell_type": "markdown",
   "id": "a8f9fce1",
   "metadata": {},
   "source": [
    "visualising data"
   ]
  },
  {
   "cell_type": "code",
   "execution_count": 3,
   "id": "dfae883b",
   "metadata": {},
   "outputs": [
    {
     "data": {
      "image/png": "[encoded data removed]",
      "text/plain": [
       "<Figure size 432x288 with 1 Axes>"
      ]
     },
     "metadata": {
      "needs_background": "light"
     },
     "output_type": "display_data"
    }
   ],
   "source": [
    "axis1 = annual_gold_price.plot(x='Year',y='Price',c='DarkBlue')"
   ]
  },
  {
   "cell_type": "markdown",
   "id": "2f0e5561",
   "metadata": {},
   "source": [
    "table construction"
   ]
  },
  {
   "cell_type": "code",
   "execution_count": 4,
   "id": "99414068",
   "metadata": {},
   "outputs": [],
   "source": [
    "Y = annual_gold_price['Price'] # dependent variable\n",
    "X = annual_gold_price['Year'] # independent variable"
   ]
  },
  {
   "cell_type": "code",
   "execution_count": 5,
   "id": "df51a276",
   "metadata": {},
   "outputs": [
    {
     "name": "stdout",
     "output_type": "stream",
     "text": [
      "Xi sum:  115623 \n",
      "\n",
      "Yi sum:  584109 \n",
      "\n",
      "XiYi sum:  1297036692682702848 \n",
      "\n",
      "Xi sq. sum:  230510705 \n",
      "\n"
     ]
    }
   ],
   "source": [
    "#sum of values fo Xi\n",
    "Xi_sum = X.sum()\n",
    "print('Xi sum: ',Xi_sum,'\\n')\n",
    "#sum of values of Yi\n",
    "Yi_sum = Y.sum()\n",
    "print('Yi sum: ',Yi_sum,'\\n')\n",
    "# sum of values of XiYi\n",
    "XiYi = annual_gold_price.product()\n",
    "XiYi_sum = XiYi.sum()\n",
    "print('XiYi sum: ',XiYi_sum,'\\n')\n",
    "# sum pf values of Xi^2\n",
    "Xi_sq = X**2\n",
    "Xi_sq_sum = Xi_sq.sum()\n",
    "print('Xi sq. sum: ',Xi_sq_sum,'\\n')"
   ]
  },
  {
   "cell_type": "code",
   "execution_count": 6,
   "id": "be468b3c",
   "metadata": {},
   "outputs": [
    {
     "name": "stderr",
     "output_type": "stream",
     "text": [
      "/tmp/ipykernel_4983/461947426.py:2: RuntimeWarning: overflow encountered in long_scalars\n",
      "  b = ((n * XiYi_sum) - (Xi_sum * Yi_sum)) / ((n * Xi_sq_sum) - (Xi_sum) ** 2)\n"
     ]
    }
   ],
   "source": [
    "n = annual_gold_price.shape[0]\n",
    "b = ((n * XiYi_sum) - (Xi_sum * Yi_sum)) / ((n * Xi_sq_sum) - (Xi_sum) ** 2)\n",
    "a = (Yi_sum - (b*Xi_sum))/n"
   ]
  },
  {
   "cell_type": "markdown",
   "id": "c2f5f810",
   "metadata": {},
   "source": [
    "Predicting"
   ]
  },
  {
   "cell_type": "code",
   "execution_count": 7,
   "id": "86e465d8",
   "metadata": {},
   "outputs": [],
   "source": [
    "x = 2022 # predicting for year 2022"
   ]
  },
  {
   "cell_type": "code",
   "execution_count": 8,
   "id": "84430678",
   "metadata": {},
   "outputs": [
    {
     "name": "stdout",
     "output_type": "stream",
     "text": [
      "predicted gold price in the year 2022  is:  43566531375740.5 \n",
      "\n"
     ]
    }
   ],
   "source": [
    "predicted = a + b*x\n",
    "print('predicted gold price in the year',x,' is: ', predicted,'\\n')"
   ]
  },
  {
   "cell_type": "code",
   "execution_count": null,
   "id": "818e36d1",
   "metadata": {},
   "outputs": [],
   "source": []
  }
 ],
 "metadata": {
  "kernelspec": {
   "display_name": "Python 3 (ipykernel)",
   "language": "python",
   "name": "python3"
  },
  "language_info": {
   "codemirror_mode": {
    "name": "ipython",
    "version": 3
   },
   "file_extension": ".py",
   "mimetype": "text/x-python",
   "name": "python",
   "nbconvert_exporter": "python",
   "pygments_lexer": "ipython3",
   "version": "3.10.12"
  }
 },
 "nbformat": 4,
 "nbformat_minor": 5
}
