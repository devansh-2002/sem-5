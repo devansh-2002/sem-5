{
 "cells": [
  {
   "cell_type": "markdown",
   "id": "69d1fe7f",
   "metadata": {},
   "source": [
    "# Week 4 (Parametric Method)"
   ]
  },
  {
   "cell_type": "code",
   "execution_count": 1,
   "id": "ae2c65a3",
   "metadata": {},
   "outputs": [],
   "source": [
    "import pandas as pd\n",
    "import numpy as np\n",
    "from matplotlib import pyplot as plt\n",
    "from sklearn.linear_model import LinearRegression\n",
    "from sklearn.model_selection import train_test_split"
   ]
  },
  {
   "cell_type": "code",
   "execution_count": 2,
   "id": "f23b3ed9",
   "metadata": {},
   "outputs": [
    {
     "name": "stdout",
     "output_type": "stream",
     "text": [
      "    Year  Price\n",
      "0   2022  52950\n",
      "1   2021  50045\n",
      "2   2020  48651\n",
      "3   2019  35220\n",
      "4   2018  31438\n",
      "5   2017  29667\n",
      "6   2016  28623\n",
      "7   2015  26343\n",
      "8   2014  28006\n",
      "9   2013  29600\n",
      "10  2012  31050\n",
      "11  2011  26400\n",
      "12  2010  18500\n",
      "13  2009  14500\n",
      "14  2008  12500\n",
      "15  2007  10800\n",
      "16  2006   8400\n",
      "17  2005   7000\n",
      "18  2004   5850\n",
      "19  2003   5600\n",
      "20  2002   4990\n",
      "21  2001   4300\n",
      "22  2000   4400\n",
      "23  1999   4232\n",
      "24  1998   4045\n",
      "25  1997   4725\n",
      "26  1996   5160\n",
      "27  1995   4680\n",
      "28  1994   4598\n",
      "29  1993   4140\n",
      "30  1992   4334\n",
      "31  1991   3466\n",
      "32  1990   3200\n",
      "33  1989   3140\n",
      "34  1988   3130\n",
      "35  1987   2570\n",
      "36  1986   2140\n",
      "37  1985   2130\n",
      "38  1984   1970\n",
      "39  1983   1800\n",
      "40  1982   1645\n",
      "41  1981   1800\n",
      "42  1980   1330\n",
      "43  1979    937\n",
      "44  1978    685\n",
      "45  1977    486\n",
      "46  1976    432\n",
      "47  1975    540\n",
      "48  1974    506\n",
      "49  1973    279\n",
      "50  1972    202\n",
      "51  1971    193\n",
      "52  1970    184\n",
      "53  1969    176\n",
      "54  1968    162\n",
      "55  1967    103\n",
      "56  1966     84\n",
      "57  1965     72\n"
     ]
    }
   ],
   "source": [
    "annual_gold_price = pd.read_csv('annual_gold_price.csv')\n",
    "print(annual_gold_price)\n",
    "# annual_gold_price = annual_gold_price.to_numpy()\n",
    "# annual_gold_price"
   ]
  },
  {
   "cell_type": "code",
   "execution_count": 3,
   "id": "9cd80a1e",
   "metadata": {},
   "outputs": [
    {
     "data": {
      "image/png": "[encoded data removed]",
      "text/plain": [
       "<Figure size 432x288 with 1 Axes>"
      ]
     },
     "metadata": {
      "needs_background": "light"
     },
     "output_type": "display_data"
    }
   ],
   "source": [
    "axis1 = annual_gold_price.plot(x='Year',y='Price',c='Black')"
   ]
  },
  {
   "cell_type": "code",
   "execution_count": 4,
   "id": "b111d65d",
   "metadata": {},
   "outputs": [],
   "source": [
    "Y = annual_gold_price['Price'] # dependent\n",
    "X = annual_gold_price['Year'] # independent"
   ]
  },
  {
   "cell_type": "code",
   "execution_count": 5,
   "id": "1913ed2d",
   "metadata": {},
   "outputs": [
    {
     "name": "stdout",
     "output_type": "stream",
     "text": [
      "Xi sum:  115623 \n",
      "\n",
      "Yi sum:  584109 \n",
      "\n",
      "XiYi sum:  1297036692682702848 \n",
      "\n",
      "Xi sq. sum:  230510705 \n",
      "\n"
     ]
    }
   ],
   "source": [
    "Xi_sum = X.sum()\n",
    "print('Xi sum: ',Xi_sum,'\\n')\n",
    "\n",
    "Yi_sum = Y.sum()\n",
    "print('Yi sum: ',Yi_sum,'\\n')\n",
    "\n",
    "XiYi = annual_gold_price.product()\n",
    "XiYi_sum = XiYi.sum()\n",
    "print('XiYi sum: ',XiYi_sum,'\\n')\n",
    "\n",
    "Xi_sq = X**2\n",
    "Xi_sq_sum = Xi_sq.sum()\n",
    "print('Xi sq. sum: ',Xi_sq_sum,'\\n')"
   ]
  },
  {
   "cell_type": "code",
   "execution_count": 6,
   "id": "e4b0695f",
   "metadata": {},
   "outputs": [
    {
     "name": "stderr",
     "output_type": "stream",
     "text": [
      "/tmp/ipykernel_7016/461947426.py:2: RuntimeWarning: overflow encountered in long_scalars\n",
      "  b = ((n * XiYi_sum) - (Xi_sum * Yi_sum)) / ((n * Xi_sq_sum) - (Xi_sum) ** 2)\n"
     ]
    }
   ],
   "source": [
    "n = annual_gold_price.shape[0]\n",
    "b = ((n * XiYi_sum) - (Xi_sum * Yi_sum)) / ((n * Xi_sq_sum) - (Xi_sum) ** 2)\n",
    "a = (Yi_sum - (b*Xi_sum))/n"
   ]
  },
  {
   "cell_type": "code",
   "execution_count": 7,
   "id": "0107667b",
   "metadata": {},
   "outputs": [],
   "source": [
    "x=2025"
   ]
  },
  {
   "cell_type": "code",
   "execution_count": 8,
   "id": "c9693cd5",
   "metadata": {},
   "outputs": [
    {
     "name": "stdout",
     "output_type": "stream",
     "text": [
      "predicted gold price in the year 2025  is:  48152482045811.0 \n",
      "\n"
     ]
    }
   ],
   "source": [
    "predicted = a + b*x\n",
    "print('predicted gold price in the year',x,' is: ', predicted,'\\n')"
   ]
  },
  {
   "cell_type": "code",
   "execution_count": 9,
   "id": "6145968e",
   "metadata": {},
   "outputs": [
    {
     "name": "stdout",
     "output_type": "stream",
     "text": [
      "The fitted regression equation is:\n",
      "gold_price = -798873.3795492619 + 401.3149467913555 year + 0.4127043687297056 silver_price\n",
      "The MSE is: 34910295.649327025\n",
      "The RMSE is: 5908.493517752814\n",
      "The predicted gold price for the year 2024 is: 13408.707974878145\n",
      "The coefficients of the sklearn model are:\n",
      "b0 = -798873.3795492619\n",
      "b1 = 401.3149467913555\n",
      "b2 = 0.4127043687297056\n"
     ]
    }
   ],
   "source": [
    "import pandas as pd\n",
    "import numpy as np\n",
    "from sklearn.linear_model import LinearRegression\n",
    "\n",
    "# Load the gold price data\n",
    "gold_price_data = pd.read_csv(\"annual_gold_price.csv\")\n",
    "\n",
    "# Load the silver price data\n",
    "silver_price_data = pd.read_csv(\"silver_rates.csv\")\n",
    "\n",
    "# Combine the two data sets\n",
    "data = pd.merge(gold_price_data, silver_price_data, on=\"Year\")\n",
    "\n",
    "# Separate the independent and dependent variables\n",
    "x = data[[\"Year\", \"Silver Rates in Rs./Kg\"]]\n",
    "y = data[\"Price\"]\n",
    "\n",
    "# Fit the linear regression model\n",
    "model = LinearRegression()\n",
    "model.fit(x, y)\n",
    "\n",
    "# coefficients\n",
    "b0 = model.intercept_\n",
    "b1 = model.coef_[0]\n",
    "b2 = model.coef_[1]\n",
    "\n",
    "# Print the fitted regression equation\n",
    "print(\"The fitted regression equation is:\")\n",
    "print(\"gold_price = \" + str(b0) + \" + \" + str(b1) + \" year + \" + str(b2) + \" silver_price\")\n",
    "\n",
    "# Compute the error, MSE, and RMSE\n",
    "error = y - model.predict(x)\n",
    "mse = np.mean(error**2)\n",
    "rmse = np.sqrt(mse)\n",
    "\n",
    "# Print the error, MSE, and RMSE\n",
    "#print(\"The error is: \" + str(error))\n",
    "print(\"The MSE is: \" + str(mse))\n",
    "print(\"The RMSE is: \" + str(rmse))\n",
    "\n",
    "# Predict the gold price for the year 2024\n",
    "year_2024 = 2024\n",
    "silver_price_2024 = 50\n",
    "predicted_gold_price_2024 = b0 + b1 * year_2024 + b2 * silver_price_2024\n",
    "\n",
    "print(\"The predicted gold price for the year 2024 is: \" + str(predicted_gold_price_2024))\n",
    "\n",
    "# Compare the coefficients obtained from the sklearn model with the program\n",
    "from sklearn.metrics import mean_squared_error\n",
    "\n",
    "# Fit the sklearn linear regression model\n",
    "sklearn_model = LinearRegression()\n",
    "sklearn_model.fit(x, y)\n",
    "\n",
    "# Get the coefficients of the sklearn model\n",
    "sklearn_b0 = sklearn_model.intercept_\n",
    "sklearn_b1 = sklearn_model.coef_[0]\n",
    "sklearn_b2 = sklearn_model.coef_[1]\n",
    "\n",
    "# Compare the coefficients\n",
    "print(\"The coefficients of the sklearn model are:\")\n",
    "print(\"b0 = \" + str(sklearn_b0))\n",
    "print(\"b1 = \" + str(sklearn_b1))\n",
    "print(\"b2 = \" + str(sklearn_b2))\n"
   ]
  },
  {
   "cell_type": "code",
   "execution_count": 11,
   "id": "c2d96aa2",
   "metadata": {},
   "outputs": [
    {
     "name": "stdout",
     "output_type": "stream",
     "text": [
      "Fitted equation: y = 675.3429819434613x + -1336225.389676704\n"
     ]
    },
    {
     "data": {
      "image/png": "[encoded data removed]",
      "text/plain": [
       "<Figure size 432x288 with 1 Axes>"
      ]
     },
     "metadata": {
      "needs_background": "light"
     },
     "output_type": "display_data"
    },
    {
     "name": "stdout",
     "output_type": "stream",
     "text": [
      "MSE:  62645019.49963982\n",
      "RMSE:  7914.860674682772\n",
      "Predicted price for year 2025 (24 carat per 10gms):  31344.14875880489\n",
      "Predicted price for year 2025 (1gm):  3134.414875880489\n"
     ]
    }
   ],
   "source": [
    "import numpy as np\n",
    "import pandas as pd\n",
    "import matplotlib.pyplot as plt\n",
    "\n",
    "# Load the gold price data\n",
    "data = pd.read_csv('annual_gold_price.csv')\n",
    "\n",
    "# Extract the year and price columns\n",
    "year = data['Year']\n",
    "price = data['Price']\n",
    "\n",
    "# Fit a linear regression model\n",
    "model = np.polyfit(year, price, 1)\n",
    "\n",
    "# Get the slope and intercept of the line\n",
    "slope = model[0]\n",
    "intercept = model[1]\n",
    "\n",
    "# Print the fitted equation\n",
    "print('Fitted equation: y = ' + str(slope) + 'x + ' + str(intercept))\n",
    "\n",
    "# Plot the data and the fitted line\n",
    "plt.plot(year, price, 'o')\n",
    "plt.plot(year, slope * year + intercept)\n",
    "plt.xlabel('Year')\n",
    "plt.ylabel('Price')\n",
    "plt.title('Fitted Simple Linear Regression Model for Gold Price')\n",
    "plt.show()\n",
    "\n",
    "# Compute the error, MSE, and RMSE\n",
    "error = price - (slope * year + intercept)\n",
    "MSE = np.mean(error**2)\n",
    "RMSE = np.sqrt(MSE)\n",
    "\n",
    "#print('Error: ', error)\n",
    "print('MSE: ', MSE)\n",
    "print('RMSE: ', RMSE)\n",
    "\n",
    "# Predict the gold price with the year 2025\n",
    "year_p = 2025\n",
    "predicted_price = slope * year_p + intercept\n",
    "\n",
    "print('Predicted price for year',year_p, '(24 carat per 10gms): ', predicted_price)\n",
    "print('Predicted price for year',year_p,'(1gm): ', predicted_price/10)"
   ]
  },
  {
   "cell_type": "code",
   "execution_count": 12,
   "id": "1aa9d7f5",
   "metadata": {},
   "outputs": [
    {
     "name": "stdout",
     "output_type": "stream",
     "text": [
      "Predicted price for year (24 carat per 10gms)  2024 :  30668.805776861496\n",
      "Predicted price for year (1gm)  2024 :  3066.8805776861495\n"
     ]
    }
   ],
   "source": [
    "\n",
    "# Predict the gold price with the year 2025\n",
    "year = 2024\n",
    "predicted_price = slope * year + intercept\n",
    "\n",
    "print('Predicted price for year (24 carat per 10gms) ', year , ': ', predicted_price)\n",
    "print('Predicted price for year (1gm) ',year, ': ', predicted_price/10)\n"
   ]
  },
  {
   "cell_type": "code",
   "execution_count": 13,
   "id": "cd7362ff",
   "metadata": {},
   "outputs": [],
   "source": [
    "data2= pd.read_csv('silver_rates.csv')\n",
    "Y = data2['Silver Rates in Rs./Kg'] # dependent\n",
    "X = data2['Year'] # independent"
   ]
  },
  {
   "cell_type": "code",
   "execution_count": 16,
   "id": "31a21ec8",
   "metadata": {},
   "outputs": [
    {
     "name": "stdout",
     "output_type": "stream",
     "text": [
      "Fitted equation: y = 675.342981943462x + -1336225.389676705\n"
     ]
    },
    {
     "data": {
      "image/png": "[encoded data removed]",
      "text/plain": [
       "<Figure size 432x288 with 1 Axes>"
      ]
     },
     "metadata": {
      "needs_background": "light"
     },
     "output_type": "display_data"
    },
    {
     "name": "stdout",
     "output_type": "stream",
     "text": [
      "Predicted Silver price for  2024 :  58031.61750803562\n",
      "Predicted Silver price for  2024 (1gm):  5803.1617508035615\n"
     ]
    }
   ],
   "source": [
    "import numpy as np\n",
    "import matplotlib.pyplot as plt\n",
    "\n",
    "# Fit a linear regression model\n",
    "def fit_linear_regression(x, y):\n",
    "    # Calculate the mean of x and y\n",
    "    x_mean = np.mean(x)\n",
    "    y_mean = np.mean(y)\n",
    "\n",
    "    # Calculate the slope and intercept\n",
    "    slope1 = np.sum((x - x_mean)*(y - y_mean)) / np.sum((x - x_mean)**2)\n",
    "    intercept1 = y_mean - slope1 * x_mean\n",
    "\n",
    "    return slope1, intercept1\n",
    "\n",
    "slope1, intercept1 = fit_linear_regression(data2['Year'], data2['Silver Rates in Rs./Kg'])\n",
    "\n",
    "# Print the fitted equation\n",
    "print('Fitted equation: y = ' + str(slope) + 'x + ' + str(intercept))\n",
    "\n",
    "# Plot the data and the fitted line\n",
    "plt.plot(data2['Year'], data2['Silver Rates in Rs./Kg'], 'o')\n",
    "plt.plot(data2['Year'], slope * data2['Year'] + intercept)\n",
    "plt.xlabel('Year')\n",
    "plt.ylabel('Price')\n",
    "plt.title('Fitted Simple Linear Regression Model for Silver Price')\n",
    "plt.show()\n",
    "\n",
    "# Predict the Silver price with the year 2025\n",
    "year = 2024\n",
    "predicted_price = slope1 * year + intercept1\n",
    "\n",
    "print('Predicted Silver price for ',year,': ', predicted_price)\n",
    "print('Predicted Silver price for ',year,'(1gm): ', predicted_price/10)\n"
   ]
  },
  {
   "cell_type": "code",
   "execution_count": null,
   "id": "c575a4b9",
   "metadata": {},
   "outputs": [],
   "source": []
  }
 ],
 "metadata": {
  "kernelspec": {
   "display_name": "Python 3 (ipykernel)",
   "language": "python",
   "name": "python3"
  },
  "language_info": {
   "codemirror_mode": {
    "name": "ipython",
    "version": 3
   },
   "file_extension": ".py",
   "mimetype": "text/x-python",
   "name": "python",
   "nbconvert_exporter": "python",
   "pygments_lexer": "ipython3",
   "version": "3.10.12"
  }
 },
 "nbformat": 4,
 "nbformat_minor": 5
}
