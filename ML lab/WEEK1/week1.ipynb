{
 "cells": [
  {
   "cell_type": "markdown",
   "id": "3397dede",
   "metadata": {},
   "source": [
    "Using CSV"
   ]
  },
  {
   "cell_type": "code",
   "execution_count": 3,
   "id": "d6f04c9b",
   "metadata": {
    "scrolled": true
   },
   "outputs": [
    {
     "name": "stdout",
     "output_type": "stream",
     "text": [
      "['Programming Language', ' Designed By', ' Appeared', ' Extension']\n",
      "['python', 'Guido Van Rossum', '1991', '.py']\n",
      "['java', 'James Gosling', ' 1995', '.java']\n",
      "['c++', 'Bjarne Stroustrup', '1983', '.cpp']\n"
     ]
    }
   ],
   "source": [
    "import csv\n",
    "with open ('/home/AIML_Student/Documents/33B/pl.csv','rt') as f:\n",
    "    data=csv.reader(f)\n",
    "    for row in data:\n",
    "        print(row)\n",
    "        "
   ]
  },
  {
   "cell_type": "code",
   "execution_count": 6,
   "id": "87d63dc3",
   "metadata": {},
   "outputs": [
    {
     "name": "stdout",
     "output_type": "stream",
     "text": [
      "{'Programming Language': 'python', ' Designed By': 'Guido Van Rossum', ' Appeared': '1991', ' Extension': '.py'}\n",
      "{'Programming Language': 'java', ' Designed By': 'James Gosling', ' Appeared': ' 1995', ' Extension': '.java'}\n",
      "{'Programming Language': 'c++', ' Designed By': 'Bjarne Stroustrup', ' Appeared': '1983', ' Extension': '.cpp'}\n"
     ]
    }
   ],
   "source": [
    "import csv\n",
    "reader=csv.DictReader(open('/home/AIML_Student/Documents/33B/pl.csv','rt'))\n",
    "for raw in reader:\n",
    "        print(raw)\n",
    "        "
   ]
  },
  {
   "cell_type": "code",
   "execution_count": 25,
   "id": "e359570b",
   "metadata": {},
   "outputs": [
    {
     "name": "stdout",
     "output_type": "stream",
     "text": [
      "['Programming Language', ' Designed By', ' Appeared', ' Extension']\n",
      "['python', 'Guido Van Rossum', '1991', '.py']\n",
      "['java', 'James Gosling', ' 1995', '.java']\n",
      "['c++', 'Bjarne Stroustrup', '1983', '.cpp']\n"
     ]
    }
   ],
   "source": [
    "import csv\n",
    "with open ('/home/AIML_Student/Documents/33B/pl1.csv','w') as f:\n",
    "    writer=csv.writer(f,delimiter=',',quotechar='\"',quoting=csv.QUOTE_MINIMAL)\n",
    "    writer.writerow(['Programming Language', ' Designed By', ' Appeared', ' Extension'])\n",
    "    writer.writerow(['python', 'Guido Van Rossum', '1991', '.py'])\n",
    "    writer.writerow(['java', 'James Gosling', ' 1995', '.java'])\n",
    "    writer.writerow(['c++', 'Bjarne Stroustrup', '1983', '.cpp'])\n",
    "with open ('/home/AIML_Student/Documents/33B/pl1.csv','rt') as f:\n",
    "    data=csv.reader(f)\n",
    "    for row in data:\n",
    "        print(row)"
   ]
  },
  {
   "cell_type": "markdown",
   "id": "9ac9f1c2",
   "metadata": {},
   "source": [
    "using Dataframe"
   ]
  },
  {
   "cell_type": "code",
   "execution_count": 2,
   "id": "3820297e",
   "metadata": {},
   "outputs": [
    {
     "name": "stdout",
     "output_type": "stream",
     "text": [
      "  Programming Language        Designed By  Appeared  Extension\n",
      "0               Python   Guido Van Rossum      1991        .py\n",
      "1                 Java      James Gosling      1995      .java\n",
      "2                  C++  Bjarne Stroustrup      1983       .cpp\n"
     ]
    }
   ],
   "source": [
    "from pandas import DataFrame\n",
    "c={'Programming Language':['Python','Java','C++'],\n",
    "  ' Designed By':['Guido Van Rossum','James Gosling','Bjarne Stroustrup'],\n",
    "   ' Appeared':['1991','1995','1983'],\n",
    "   ' Extension':['.py','.java','.cpp']\n",
    "  }\n",
    "df=DataFrame(c,columns=['Programming Language', ' Designed By', ' Appeared', ' Extension'])\n",
    "export_csv=df.to_csv(r'/home/AIML_Student/Documents/33B/pl2.csv',index=None,header=True)\n",
    "print(df)"
   ]
  },
  {
   "cell_type": "markdown",
   "id": "e131d953",
   "metadata": {},
   "source": [
    "*!pip install numpy"
   ]
  },
  {
   "cell_type": "markdown",
   "id": "5f0e2d20",
   "metadata": {},
   "source": [
    "1. Convert a 1-D array into a 2-D array with 3 rows."
   ]
  },
  {
   "cell_type": "code",
   "execution_count": 43,
   "id": "4cc3752c",
   "metadata": {},
   "outputs": [
    {
     "name": "stdout",
     "output_type": "stream",
     "text": [
      "initial array:  [0 1 2 3 4 5 6 7 8]\n",
      "Modified array:\n",
      "[[0 1 2]\n",
      " [3 4 5]\n",
      " [6 7 8]]\n"
     ]
    }
   ],
   "source": [
    "import numpy as np\n",
    "a=np.array([0,1,2,3,4,5,6,7,8])\n",
    "print('initial array: ',a)\n",
    "b=a.reshape(3,3)\n",
    "print('Modified array:')\n",
    "print(b)"
   ]
  },
  {
   "cell_type": "markdown",
   "id": "23a9e54d",
   "metadata": {},
   "source": [
    "2. Replace all odd numbers in the given array with -1"
   ]
  },
  {
   "cell_type": "code",
   "execution_count": 47,
   "id": "77a4dfd0",
   "metadata": {},
   "outputs": [
    {
     "name": "stdout",
     "output_type": "stream",
     "text": [
      "initial array:  [0 1 2 3 4 5 6 7 8]\n",
      "Modified Array [ 0 -1  2 -1  4 -1  6 -1  8]\n"
     ]
    }
   ],
   "source": [
    "a=np.array([0,1,2,3,4,5,6,7,8])\n",
    "print('initial array: ',a)\n",
    "n=a.size\n",
    "for i in range(n):\n",
    "    if a[i]%2!=0:\n",
    "        a[i]=-1\n",
    "print('Modified Array',a)"
   ]
  },
  {
   "cell_type": "code",
   "execution_count": null,
   "id": "7aae1177",
   "metadata": {},
   "outputs": [],
   "source": []
  },
  {
   "cell_type": "markdown",
   "id": "4a0bb71c",
   "metadata": {},
   "source": [
    "3. Find the positions of:\n",
    "elements in x where its value is more than its corresponding element in y, and elements in x where its value is equals to its corresponding element in y."
   ]
  },
  {
   "cell_type": "code",
   "execution_count": 56,
   "id": "8ddd2da6",
   "metadata": {},
   "outputs": [
    {
     "name": "stdout",
     "output_type": "stream",
     "text": [
      "X is equals to Y at:  [0]\n",
      "X is grater than Y at:  [1, 2, 4, 5, 6, 7, 8, 9]\n"
     ]
    }
   ],
   "source": [
    "x = np.array([21, 64, 86, 22, 74, 55, 81, 79, 90, 89])\n",
    "y = np.array([21, 7, 3, 45, 10, 29, 55, 4, 37, 18])\n",
    "m=[]\n",
    "n=[]\n",
    "for i in range(y.size):\n",
    "    if x[i]==y[i]:\n",
    "        m.append(i)\n",
    "    if x[i]>y[i]:\n",
    "        n.append(i)\n",
    "print('X is equals to Y at: ',m)\n",
    "print('X is grater than Y at: ',n)"
   ]
  },
  {
   "cell_type": "markdown",
   "id": "2c3732e0",
   "metadata": {},
   "source": [
    "4. Extract the first four columns of this 2-D array."
   ]
  },
  {
   "cell_type": "code",
   "execution_count": 64,
   "id": "18543daa",
   "metadata": {},
   "outputs": [
    {
     "name": "stdout",
     "output_type": "stream",
     "text": [
      "[[ 0  1  2  3  4  5  6  7  8  9 10 11 12 13 14 15 16 17 18 19]\n",
      " [20 21 22 23 24 25 26 27 28 29 30 31 32 33 34 35 36 37 38 39]\n",
      " [40 41 42 43 44 45 46 47 48 49 50 51 52 53 54 55 56 57 58 59]\n",
      " [60 61 62 63 64 65 66 67 68 69 70 71 72 73 74 75 76 77 78 79]\n",
      " [80 81 82 83 84 85 86 87 88 89 90 91 92 93 94 95 96 97 98 99]]\n",
      "[[ 0  1  2  3]\n",
      " [20 21 22 23]\n",
      " [40 41 42 43]\n",
      " [60 61 62 63]\n",
      " [80 81 82 83]]\n"
     ]
    }
   ],
   "source": [
    "a= np.arange(100).reshape(5,-1)\n",
    "print(a)\n",
    "b=a[:,[0,1,2,3]]\n",
    "print(b)"
   ]
  },
  {
   "cell_type": "code",
   "execution_count": null,
   "id": "383f9ad5",
   "metadata": {},
   "outputs": [],
   "source": []
  }
 ],
 "metadata": {
  "kernelspec": {
   "display_name": "Python 3 (ipykernel)",
   "language": "python",
   "name": "python3"
  },
  "language_info": {
   "codemirror_mode": {
    "name": "ipython",
    "version": 3
   },
   "file_extension": ".py",
   "mimetype": "text/x-python",
   "name": "python",
   "nbconvert_exporter": "python",
   "pygments_lexer": "ipython3",
   "version": "3.10.12"
  }
 },
 "nbformat": 4,
 "nbformat_minor": 5
}
