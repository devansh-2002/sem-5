{
 "cells": [
  {
   "cell_type": "markdown",
   "id": "54d62093",
   "metadata": {},
   "source": [
    "Consider the hepatitis/ pima-indians-diabetes csv file, perform the following date pre-processing.\n",
    "1. Load data in Pandas.\n",
    "2. Drop columns that aren’t useful.\n",
    "3. Drop rows with missing values.\n",
    "4. Create dummy variables.\n",
    "5. Take care of missing data.\n",
    "6. Convert the data frame to NumPy.\n",
    "7. Divide the data set into training data and test data."
   ]
  },
  {
   "cell_type": "code",
   "execution_count": 1,
   "id": "31418f2f",
   "metadata": {},
   "outputs": [
    {
     "name": "stdout",
     "output_type": "stream",
     "text": [
      "     Pregnancies  Glucose  BloodPressure  SkinThickness  Insulin   BMI  \\\n",
      "0              6      148             72             35        0  33.6   \n",
      "1              1       85             66             29        0  26.6   \n",
      "2              8      183             64              0        0  23.3   \n",
      "3              1       89             66             23       94  28.1   \n",
      "4              0      137             40             35      168  43.1   \n",
      "..           ...      ...            ...            ...      ...   ...   \n",
      "763           10      101             76             48      180  32.9   \n",
      "764            2      122             70             27        0  36.8   \n",
      "765            5      121             72             23      112  26.2   \n",
      "766            1      126             60              0        0  30.1   \n",
      "767            1       93             70             31        0  30.4   \n",
      "\n",
      "     DiabetesPedigreeFunction  Age  Outcome  \n",
      "0                       0.627   50        1  \n",
      "1                       0.351   31        0  \n",
      "2                       0.672   32        1  \n",
      "3                       0.167   21        0  \n",
      "4                       2.288   33        1  \n",
      "..                        ...  ...      ...  \n",
      "763                     0.171   63        0  \n",
      "764                     0.340   27        0  \n",
      "765                     0.245   30        0  \n",
      "766                     0.349   47        1  \n",
      "767                     0.315   23        0  \n",
      "\n",
      "[768 rows x 9 columns]\n"
     ]
    },
    {
     "data": {
      "text/plain": [
       "['Pregnancies',\n",
       " 'Glucose',\n",
       " 'BloodPressure',\n",
       " 'SkinThickness',\n",
       " 'Insulin',\n",
       " 'BMI',\n",
       " 'DiabetesPedigreeFunction',\n",
       " 'Age',\n",
       " 'Outcome']"
      ]
     },
     "execution_count": 1,
     "metadata": {},
     "output_type": "execute_result"
    }
   ],
   "source": [
    "#1\n",
    "import numpy as np\n",
    "import pandas as pd\n",
    "df=pd.read_csv('diabetes_csv.csv')\n",
    "print(df)\n",
    "list(df.columns.values)"
   ]
  },
  {
   "cell_type": "code",
   "execution_count": 2,
   "id": "00a70594",
   "metadata": {},
   "outputs": [
    {
     "name": "stdout",
     "output_type": "stream",
     "text": [
      "     Pregnancies  Glucose  Insulin   BMI  Age  Outcome\n",
      "0              6      148        0  33.6   50        1\n",
      "1              1       85        0  26.6   31        0\n",
      "2              8      183        0  23.3   32        1\n",
      "3              1       89       94  28.1   21        0\n",
      "4              0      137      168  43.1   33        1\n",
      "..           ...      ...      ...   ...  ...      ...\n",
      "763           10      101      180  32.9   63        0\n",
      "764            2      122        0  36.8   27        0\n",
      "765            5      121      112  26.2   30        0\n",
      "766            1      126        0  30.1   47        1\n",
      "767            1       93        0  30.4   23        0\n",
      "\n",
      "[768 rows x 6 columns]\n"
     ]
    },
    {
     "data": {
      "text/plain": [
       "['Pregnancies', 'Glucose', 'Insulin', 'BMI', 'Age', 'Outcome']"
      ]
     },
     "execution_count": 2,
     "metadata": {},
     "output_type": "execute_result"
    }
   ],
   "source": [
    "#2\n",
    "import numpy as np\n",
    "import pandas as pd\n",
    "df=pd.read_csv('diabetes_csv.csv')\n",
    "df.drop(['BloodPressure', 'SkinThickness','DiabetesPedigreeFunction'],axis=1, inplace=True)\n",
    "print(df)\n",
    "list(df.columns.values)"
   ]
  },
  {
   "cell_type": "code",
   "execution_count": 3,
   "id": "03997115",
   "metadata": {},
   "outputs": [
    {
     "name": "stdout",
     "output_type": "stream",
     "text": [
      "     Pregnancies  Glucose  Insulin   BMI  Age  Outcome\n",
      "3            1.0     89.0     94.0  28.1   21      0.0\n",
      "6            3.0     78.0     88.0  31.0   26      1.0\n",
      "8            2.0    197.0    543.0  30.5   53      1.0\n",
      "13           1.0    189.0    846.0  30.1   59      1.0\n",
      "14           5.0    166.0    175.0  25.8   51      1.0\n",
      "..           ...      ...      ...   ...  ...      ...\n",
      "751          1.0    121.0     74.0  39.0   28      0.0\n",
      "755          1.0    128.0    110.0  36.5   37      1.0\n",
      "760          2.0     88.0     16.0  28.4   22      0.0\n",
      "763         10.0    101.0    180.0  32.9   63      0.0\n",
      "765          5.0    121.0    112.0  26.2   30      0.0\n",
      "\n",
      "[336 rows x 6 columns]\n"
     ]
    },
    {
     "data": {
      "text/html": [
       "<div>\n",
       "<style scoped>\n",
       "    .dataframe tbody tr th:only-of-type {\n",
       "        vertical-align: middle;\n",
       "    }\n",
       "\n",
       "    .dataframe tbody tr th {\n",
       "        vertical-align: top;\n",
       "    }\n",
       "\n",
       "    .dataframe thead th {\n",
       "        text-align: right;\n",
       "    }\n",
       "</style>\n",
       "<table border=\"1\" class=\"dataframe\">\n",
       "  <thead>\n",
       "    <tr style=\"text-align: right;\">\n",
       "      <th></th>\n",
       "      <th>0.0</th>\n",
       "      <th>1.0</th>\n",
       "    </tr>\n",
       "  </thead>\n",
       "  <tbody>\n",
       "    <tr>\n",
       "      <th>3</th>\n",
       "      <td>1</td>\n",
       "      <td>0</td>\n",
       "    </tr>\n",
       "    <tr>\n",
       "      <th>6</th>\n",
       "      <td>0</td>\n",
       "      <td>1</td>\n",
       "    </tr>\n",
       "    <tr>\n",
       "      <th>8</th>\n",
       "      <td>0</td>\n",
       "      <td>1</td>\n",
       "    </tr>\n",
       "    <tr>\n",
       "      <th>13</th>\n",
       "      <td>0</td>\n",
       "      <td>1</td>\n",
       "    </tr>\n",
       "    <tr>\n",
       "      <th>14</th>\n",
       "      <td>0</td>\n",
       "      <td>1</td>\n",
       "    </tr>\n",
       "    <tr>\n",
       "      <th>...</th>\n",
       "      <td>...</td>\n",
       "      <td>...</td>\n",
       "    </tr>\n",
       "    <tr>\n",
       "      <th>751</th>\n",
       "      <td>1</td>\n",
       "      <td>0</td>\n",
       "    </tr>\n",
       "    <tr>\n",
       "      <th>755</th>\n",
       "      <td>0</td>\n",
       "      <td>1</td>\n",
       "    </tr>\n",
       "    <tr>\n",
       "      <th>760</th>\n",
       "      <td>1</td>\n",
       "      <td>0</td>\n",
       "    </tr>\n",
       "    <tr>\n",
       "      <th>763</th>\n",
       "      <td>1</td>\n",
       "      <td>0</td>\n",
       "    </tr>\n",
       "    <tr>\n",
       "      <th>765</th>\n",
       "      <td>1</td>\n",
       "      <td>0</td>\n",
       "    </tr>\n",
       "  </tbody>\n",
       "</table>\n",
       "<p>336 rows × 2 columns</p>\n",
       "</div>"
      ],
      "text/plain": [
       "     0.0  1.0\n",
       "3      1    0\n",
       "6      0    1\n",
       "8      0    1\n",
       "13     0    1\n",
       "14     0    1\n",
       "..   ...  ...\n",
       "751    1    0\n",
       "755    0    1\n",
       "760    1    0\n",
       "763    1    0\n",
       "765    1    0\n",
       "\n",
       "[336 rows x 2 columns]"
      ]
     },
     "execution_count": 3,
     "metadata": {},
     "output_type": "execute_result"
    }
   ],
   "source": [
    "#3 ,4 & 5\n",
    "df = df[df!=0]\n",
    "df = df.dropna( subset = df.columns.difference(['Outcome']))\n",
    "df = df.fillna(0)\n",
    "print(df)\n",
    "pd.get_dummies(df['Outcome'])"
   ]
  },
  {
   "cell_type": "code",
   "execution_count": 4,
   "id": "da3c6364",
   "metadata": {},
   "outputs": [
    {
     "data": {
      "text/html": [
       "<div>\n",
       "<style scoped>\n",
       "    .dataframe tbody tr th:only-of-type {\n",
       "        vertical-align: middle;\n",
       "    }\n",
       "\n",
       "    .dataframe tbody tr th {\n",
       "        vertical-align: top;\n",
       "    }\n",
       "\n",
       "    .dataframe thead th {\n",
       "        text-align: right;\n",
       "    }\n",
       "</style>\n",
       "<table border=\"1\" class=\"dataframe\">\n",
       "  <thead>\n",
       "    <tr style=\"text-align: right;\">\n",
       "      <th></th>\n",
       "      <th>Pregnancies</th>\n",
       "      <th>Glucose</th>\n",
       "      <th>Insulin</th>\n",
       "      <th>BMI</th>\n",
       "      <th>Age</th>\n",
       "      <th>Outcome</th>\n",
       "    </tr>\n",
       "  </thead>\n",
       "  <tbody>\n",
       "    <tr>\n",
       "      <th>3</th>\n",
       "      <td>True</td>\n",
       "      <td>True</td>\n",
       "      <td>True</td>\n",
       "      <td>True</td>\n",
       "      <td>True</td>\n",
       "      <td>True</td>\n",
       "    </tr>\n",
       "    <tr>\n",
       "      <th>6</th>\n",
       "      <td>True</td>\n",
       "      <td>True</td>\n",
       "      <td>True</td>\n",
       "      <td>True</td>\n",
       "      <td>True</td>\n",
       "      <td>True</td>\n",
       "    </tr>\n",
       "    <tr>\n",
       "      <th>8</th>\n",
       "      <td>True</td>\n",
       "      <td>True</td>\n",
       "      <td>True</td>\n",
       "      <td>True</td>\n",
       "      <td>True</td>\n",
       "      <td>True</td>\n",
       "    </tr>\n",
       "    <tr>\n",
       "      <th>13</th>\n",
       "      <td>True</td>\n",
       "      <td>True</td>\n",
       "      <td>True</td>\n",
       "      <td>True</td>\n",
       "      <td>True</td>\n",
       "      <td>True</td>\n",
       "    </tr>\n",
       "    <tr>\n",
       "      <th>14</th>\n",
       "      <td>True</td>\n",
       "      <td>True</td>\n",
       "      <td>True</td>\n",
       "      <td>True</td>\n",
       "      <td>True</td>\n",
       "      <td>True</td>\n",
       "    </tr>\n",
       "    <tr>\n",
       "      <th>...</th>\n",
       "      <td>...</td>\n",
       "      <td>...</td>\n",
       "      <td>...</td>\n",
       "      <td>...</td>\n",
       "      <td>...</td>\n",
       "      <td>...</td>\n",
       "    </tr>\n",
       "    <tr>\n",
       "      <th>751</th>\n",
       "      <td>True</td>\n",
       "      <td>True</td>\n",
       "      <td>True</td>\n",
       "      <td>True</td>\n",
       "      <td>True</td>\n",
       "      <td>True</td>\n",
       "    </tr>\n",
       "    <tr>\n",
       "      <th>755</th>\n",
       "      <td>True</td>\n",
       "      <td>True</td>\n",
       "      <td>True</td>\n",
       "      <td>True</td>\n",
       "      <td>True</td>\n",
       "      <td>True</td>\n",
       "    </tr>\n",
       "    <tr>\n",
       "      <th>760</th>\n",
       "      <td>True</td>\n",
       "      <td>True</td>\n",
       "      <td>True</td>\n",
       "      <td>True</td>\n",
       "      <td>True</td>\n",
       "      <td>True</td>\n",
       "    </tr>\n",
       "    <tr>\n",
       "      <th>763</th>\n",
       "      <td>True</td>\n",
       "      <td>True</td>\n",
       "      <td>True</td>\n",
       "      <td>True</td>\n",
       "      <td>True</td>\n",
       "      <td>True</td>\n",
       "    </tr>\n",
       "    <tr>\n",
       "      <th>765</th>\n",
       "      <td>True</td>\n",
       "      <td>True</td>\n",
       "      <td>True</td>\n",
       "      <td>True</td>\n",
       "      <td>True</td>\n",
       "      <td>True</td>\n",
       "    </tr>\n",
       "  </tbody>\n",
       "</table>\n",
       "<p>336 rows × 6 columns</p>\n",
       "</div>"
      ],
      "text/plain": [
       "     Pregnancies  Glucose  Insulin   BMI   Age  Outcome\n",
       "3           True     True     True  True  True     True\n",
       "6           True     True     True  True  True     True\n",
       "8           True     True     True  True  True     True\n",
       "13          True     True     True  True  True     True\n",
       "14          True     True     True  True  True     True\n",
       "..           ...      ...      ...   ...   ...      ...\n",
       "751         True     True     True  True  True     True\n",
       "755         True     True     True  True  True     True\n",
       "760         True     True     True  True  True     True\n",
       "763         True     True     True  True  True     True\n",
       "765         True     True     True  True  True     True\n",
       "\n",
       "[336 rows x 6 columns]"
      ]
     },
     "execution_count": 4,
     "metadata": {},
     "output_type": "execute_result"
    }
   ],
   "source": [
    "df.notnull()"
   ]
  },
  {
   "cell_type": "code",
   "execution_count": 5,
   "id": "f76b7d6a",
   "metadata": {},
   "outputs": [
    {
     "name": "stdout",
     "output_type": "stream",
     "text": [
      "[[  1  89  94  28  21   0]\n",
      " [  3  78  88  31  26   1]\n",
      " [  2 197 543  30  53   1]\n",
      " ...\n",
      " [  2  88  16  28  22   0]\n",
      " [ 10 101 180  32  63   0]\n",
      " [  5 121 112  26  30   0]]\n"
     ]
    }
   ],
   "source": [
    "#6\n",
    "arr = df.to_numpy(dtype='int')\n",
    "print(arr)"
   ]
  },
  {
   "cell_type": "code",
   "execution_count": 6,
   "id": "42d96d0e",
   "metadata": {},
   "outputs": [
    {
     "name": "stdout",
     "output_type": "stream",
     "text": [
      "X_train : \n",
      "     Pregnancies  Glucose  Insulin   BMI  Age\n",
      "765          5.0    121.0    112.0  26.2   30\n",
      "540          8.0    100.0    215.0  39.4   43\n",
      "95           6.0    144.0    228.0  33.9   40\n",
      "500          2.0    117.0     71.0  25.2   21\n",
      "519          6.0    129.0    326.0  19.6   60\n",
      "\n",
      "X_test : \n",
      "     Pregnancies  Glucose  Insulin   BMI  Age\n",
      "128          1.0    117.0    145.0  34.5   40\n",
      "126          3.0    120.0    135.0  42.9   30\n",
      "638          7.0     97.0     91.0  40.9   32\n",
      "620          2.0    112.0    160.0  38.4   28\n",
      "457          5.0     86.0     71.0  30.2   24\n",
      "\n",
      "y_train : \n",
      "765    0.0\n",
      "540    1.0\n",
      "95     0.0\n",
      "500    0.0\n",
      "519    0.0\n",
      "Name: Outcome, dtype: float64\n",
      "\n",
      "y_test : \n",
      "128    1.0\n",
      "126    0.0\n",
      "638    1.0\n",
      "620    0.0\n",
      "457    0.0\n",
      "Name: Outcome, dtype: float64\n"
     ]
    }
   ],
   "source": [
    "#7. Divide the data set into training data and test data.\n",
    "from sklearn.linear_model import LinearRegression\n",
    "from sklearn.model_selection import train_test_split\n",
    "\n",
    "X = df.iloc[:, :-1]\n",
    "y = df.iloc[:, -1]\n",
    "\n",
    "X_train, X_test, y_train, y_test = train_test_split(X, y, test_size=0.05, random_state=0)\n",
    "\n",
    "print('X_train : ')\n",
    "print(X_train.head())\n",
    "print('')\n",
    "print('X_test : ')\n",
    "print(X_test.head())\n",
    "print('')\n",
    "print('y_train : ')\n",
    "print(y_train.head())\n",
    "print('')\n",
    "print('y_test : ')\n",
    "print(y_test.head())"
   ]
  },
  {
   "cell_type": "markdown",
   "id": "c3d4c404",
   "metadata": {},
   "source": [
    "2. Consider the diabetes csv file, create the regression model display the co-efficients (B0-intercept and B1-Slope), RMSE and predict the response. Plot the graph x v/s y in yellow and x v/s prediction in green."
   ]
  },
  {
   "cell_type": "code",
   "execution_count": 7,
   "id": "73cb61dd",
   "metadata": {},
   "outputs": [
    {
     "name": "stdout",
     "output_type": "stream",
     "text": [
      "X_train : \n",
      "     Insulin\n",
      "765    112.0\n",
      "540    215.0\n",
      "95     228.0\n",
      "500     71.0\n",
      "519    326.0\n",
      "\n",
      "X_test : \n",
      "     Insulin\n",
      "128    145.0\n",
      "126    135.0\n",
      "638     91.0\n",
      "620    160.0\n",
      "457     71.0\n",
      "\n",
      "y_train : \n",
      "765    30\n",
      "540    43\n",
      "95     40\n",
      "500    21\n",
      "519    60\n",
      "Name: Age, dtype: int64\n",
      "\n",
      "y_test : \n",
      "128    40\n",
      "126    30\n",
      "638    32\n",
      "620    28\n",
      "457    24\n",
      "Name: Age, dtype: int64\n"
     ]
    }
   ],
   "source": [
    "import numpy as np\n",
    "import pandas as pd\n",
    "import math\n",
    "from sklearn.linear_model import LinearRegression\n",
    "import matplotlib.pyplot as plt\n",
    "from sklearn.metrics import mean_squared_error\n",
    "df1=pd.DataFrame(df,columns=['Insulin','Age'])\n",
    "\n",
    "X = df1.iloc[:, :-1]\n",
    "y = df1.iloc[:, -1]\n",
    "\n",
    "X_train, X_test, y_train, y_test = train_test_split(X, y, test_size=0.05, random_state=0)\n",
    "\n",
    "print('X_train : ')\n",
    "print(X_train.head())\n",
    "print('')\n",
    "print('X_test : ')\n",
    "print(X_test.head())\n",
    "print('')\n",
    "print('y_train : ')\n",
    "print(y_train.head())\n",
    "print('')\n",
    "print('y_test : ')\n",
    "print(y_test.head())"
   ]
  },
  {
   "cell_type": "code",
   "execution_count": 8,
   "id": "06009665",
   "metadata": {},
   "outputs": [
    {
     "name": "stdout",
     "output_type": "stream",
     "text": [
      "coefficient of determination: 0.056392440838723745\n",
      "intercept: 28.65263802345012\n",
      "slope: [0.0206963]\n",
      "rmse 10.231067461761933\n"
     ]
    }
   ],
   "source": [
    "model = LinearRegression()\n",
    "model.fit(X_train, y_train)\n",
    "r_sq = model.score(X_train, y_train)\n",
    "print(f\"coefficient of determination: {r_sq}\")\n",
    "print(f\"intercept: {model.intercept_}\")\n",
    "print(f\"slope: {model.coef_}\")\n",
    "\n",
    "ypredict= model.intercept_ + model.coef_*X_train\n",
    "mse=mean_squared_error(y_train,ypredict)\n",
    "\n",
    "rsme=math.sqrt(mse)\n",
    "print('rmse',rsme)"
   ]
  },
  {
   "cell_type": "code",
   "execution_count": 9,
   "id": "31a82195",
   "metadata": {},
   "outputs": [
    {
     "data": {
      "text/plain": [
       "[<matplotlib.lines.Line2D at 0x7feb949bf730>]"
      ]
     },
     "execution_count": 9,
     "metadata": {},
     "output_type": "execute_result"
    },
    {
     "data": {
      "image/png": "[encoded data removed]",
      "text/plain": [
       "<Figure size 432x288 with 1 Axes>"
      ]
     },
     "metadata": {
      "needs_background": "light"
     },
     "output_type": "display_data"
    }
   ],
   "source": [
    "plt.scatter(X_train,y_train,color='y',marker='o')\n",
    "plt.plot(X_test,y_test,color='g')\n"
   ]
  },
  {
   "cell_type": "code",
   "execution_count": 10,
   "id": "4ec65c52",
   "metadata": {},
   "outputs": [
    {
     "name": "stdout",
     "output_type": "stream",
     "text": [
      "     age  antivirals  bilirubin  alk_phosphate   sgot  albumin  histology  \\\n",
      "0     30       False        1.0           85.0   18.0      4.0      False   \n",
      "1     50       False        0.9          135.0   42.0      3.5      False   \n",
      "2     78       False        0.7           96.0   32.0      4.0      False   \n",
      "5     34       False        0.9           95.0   28.0      4.0      False   \n",
      "10    39        True        1.3           78.0   30.0      4.4      False   \n",
      "..   ...         ...        ...            ...    ...      ...        ...   \n",
      "149   36       False        0.6          120.0   30.0      4.0       True   \n",
      "151   44       False        0.9          126.0  142.0      4.3       True   \n",
      "152   61       False        0.8           75.0   20.0      4.1       True   \n",
      "153   53       False        1.5           81.0   19.0      4.1       True   \n",
      "154   43       False        1.2          100.0   19.0      3.1       True   \n",
      "\n",
      "     sex_female  sex_male  steroid_False  ...  spleen_palpable_False  \\\n",
      "0             0         1              1  ...                      1   \n",
      "1             1         0              1  ...                      1   \n",
      "2             1         0              0  ...                      1   \n",
      "5             1         0              0  ...                      1   \n",
      "10            1         0              1  ...                      1   \n",
      "..          ...       ...            ...  ...                    ...   \n",
      "149           1         0              0  ...                      1   \n",
      "151           1         0              0  ...                      1   \n",
      "152           1         0              1  ...                      1   \n",
      "153           0         1              1  ...                      0   \n",
      "154           1         0              0  ...                      0   \n",
      "\n",
      "     spleen_palpable_True  spiders_False  spiders_True  ascites_False  \\\n",
      "0                       0              1             0              1   \n",
      "1                       0              1             0              1   \n",
      "2                       0              1             0              1   \n",
      "5                       0              1             0              1   \n",
      "10                      0              1             0              1   \n",
      "..                    ...            ...           ...            ...   \n",
      "149                     0              1             0              1   \n",
      "151                     0              1             0              1   \n",
      "152                     0              0             1              1   \n",
      "153                     1              0             1              1   \n",
      "154                     1              0             1              0   \n",
      "\n",
      "     ascites_True  varices_False  varices_True  class_die  class_live  \n",
      "0               0              1             0          0           1  \n",
      "1               0              1             0          0           1  \n",
      "2               0              1             0          0           1  \n",
      "5               0              1             0          0           1  \n",
      "10              0              1             0          0           1  \n",
      "..            ...            ...           ...        ...         ...  \n",
      "149             0              1             0          0           1  \n",
      "151             0              1             0          0           1  \n",
      "152             0              1             0          0           1  \n",
      "153             0              0             1          0           1  \n",
      "154             1              1             0          1           0  \n",
      "\n",
      "[112 rows x 31 columns]\n",
      "[[33 False 1.0 ... 1 0 0]\n",
      " [50 False 1.5 ... 1 0 0]\n",
      " [62 False 1.3 ... 1 0 0]\n",
      " ...\n",
      " [50 False 2.8 ... 0 1 1]\n",
      " [49 False 0.8 ... 1 0 0]\n",
      " [45 True 1.3 ... 1 0 0]]\n"
     ]
    }
   ],
   "source": [
    "import pandas as pd\n",
    "import numpy as np\n",
    "#1\n",
    "data=pd.read_csv('hepatitis_csv.csv')\n",
    "#2\n",
    "data=data.drop(columns=['protime'])\n",
    "#3\n",
    "data=data.dropna()\n",
    "#4\n",
    "data=pd.get_dummies(data)\n",
    "#5\n",
    "data=data.fillna(data.mean())\n",
    "#6\n",
    "numpy_data=data.to_numpy()\n",
    "#7\n",
    "X=numpy_data[:,:-1]\n",
    "y=numpy_data[:,-1]\n",
    "\n",
    "from sklearn.model_selection import train_test_split\n",
    "X_train, X_test,y_train,y_test=train_test_split(X,y,test_size=0.3,random_state=42)\n",
    "print(data)\n",
    "print(X_train)"
   ]
  },
  {
   "cell_type": "code",
   "execution_count": 11,
   "id": "9fa5d2a4",
   "metadata": {},
   "outputs": [
    {
     "name": "stdout",
     "output_type": "stream",
     "text": [
      "Intercept (B0): 33.58422876233022\n",
      "Slope (B1): -0.0043025762730413315\n",
      "RMSE: 11.742121638316993\n"
     ]
    },
    {
     "data": {
      "image/png": "[encoded data removed]",
      "text/plain": [
       "<Figure size 432x288 with 1 Axes>"
      ]
     },
     "metadata": {
      "needs_background": "light"
     },
     "output_type": "display_data"
    }
   ],
   "source": [
    "import pandas as pd\n",
    "import numpy as np\n",
    "import matplotlib.pyplot as plt\n",
    "from sklearn.linear_model import LinearRegression\n",
    "from sklearn.metrics import mean_squared_error\n",
    "\n",
    "data = pd.read_csv('diabetes_csv.csv')\n",
    "\n",
    "x = data['Insulin'].values.reshape(-1, 1)\n",
    "y = data['Age'].values.reshape(-1, 1)\n",
    "\n",
    "model = LinearRegression()\n",
    "model.fit(x, y)\n",
    "\n",
    "intercept = model.intercept_[0]\n",
    "slope = model.coef_[0][0]\n",
    "print('Intercept (B0):', intercept)\n",
    "print('Slope (B1):', slope)\n",
    "\n",
    "y_pred = model.predict(x)\n",
    "rmse = np.sqrt(mean_squared_error(y, y_pred))\n",
    "print('RMSE:', rmse)\n",
    "\n",
    "plt.scatter(x, y, color='yellow', label='Actual')\n",
    "plt.plot(x, y_pred, color='green', label='Prediction')\n",
    "plt.xlabel('x')\n",
    "plt.ylabel('y')\n",
    "plt.legend()\n",
    "plt.show()\n"
   ]
  }
 ],
 "metadata": {
  "kernelspec": {
   "display_name": "Python 3 (ipykernel)",
   "language": "python",
   "name": "python3"
  },
  "language_info": {
   "codemirror_mode": {
    "name": "ipython",
    "version": 3
   },
   "file_extension": ".py",
   "mimetype": "text/x-python",
   "name": "python",
   "nbconvert_exporter": "python",
   "pygments_lexer": "ipython3",
   "version": "3.10.12"
  }
 },
 "nbformat": 4,
 "nbformat_minor": 5
}
