{
 "cells": [
  {
   "cell_type": "markdown",
   "id": "8f69240d",
   "metadata": {},
   "source": [
    "# WEEK -08: NAÏVE BAYES CLASSIFIER"
   ]
  },
  {
   "cell_type": "markdown",
   "id": "ba5f633e",
   "metadata": {},
   "source": [
    "1. Implement in python of the following problems using Bayes Theorem.\n",
    "a) Of the students in the college, 60% of the students reside in the hostel and 40% of the students are day\n",
    "scholars. Previous year results report that 30% of all students who stay in the hostel scored A Grade and 20%\n",
    "of day scholars scored A grade. At the end of the year, one student is chosen at random and found that he/she\n",
    "has an A grade. What is the probability that the student is a hosteler?"
   ]
  },
  {
   "cell_type": "code",
   "execution_count": 41,
   "id": "b6aad474",
   "metadata": {},
   "outputs": [
    {
     "name": "stdout",
     "output_type": "stream",
     "text": [
      "The probability that the student is a hosteler given an A grade is=0.69\n"
     ]
    }
   ],
   "source": [
    "P_A_given_hosteler = 0.30  # Probability of scoring A grade given a student is a hosteler\n",
    "P_hosteler = 0.60  # Probability that a student is a hosteler\n",
    "P_day_scholar = 0.40  # Probability that a student is a day scholar\n",
    "\n",
    "P_A_grade = (P_A_given_hosteler * P_hosteler) + (0.20 * P_day_scholar)\n",
    "\n",
    "P_hosteler_given_A_grade = (P_A_given_hosteler * P_hosteler) / P_A_grade\n",
    "\n",
    "print(\"The probability that the student is a hosteler given an A grade is={:.2f}\".format(P_hosteler_given_A_grade))\n"
   ]
  },
  {
   "cell_type": "markdown",
   "id": "269504eb",
   "metadata": {},
   "source": [
    "b) Suppose you're testing for a rare disease, and you have the following information:\n",
    "• The disease has a prevalence of 0.01 (1% of the population has the disease).\n",
    "• The test is not perfect:\n",
    "• The test correctly identifies the disease (true positive) 99% of the time (sensitivity).\n",
    "• The test incorrectly indicates the disease (false positive) 2% of the time (1 - specificity).\n",
    "Calculate the probability of having the disease given a positive test result using Bayes' theorem."
   ]
  },
  {
   "cell_type": "code",
   "execution_count": 42,
   "id": "7d343f1c",
   "metadata": {},
   "outputs": [
    {
     "name": "stdout",
     "output_type": "stream",
     "text": [
      "The probability of having the disease given a positive test result is=0.33\n"
     ]
    }
   ],
   "source": [
    "P_disease = 0.01  # Prevalence of the disease\n",
    "P_positive_given_disease = 0.99  # Sensitivity (true positive rate)\n",
    "P_positive_given_no_disease = 0.02  # False positive rate\n",
    "\n",
    "# probability of not having the disease\n",
    "P_no_disease = 1 - P_disease\n",
    "\n",
    "#  overall probability of testing positive\n",
    "P_positive = (P_positive_given_disease * P_disease) + (P_positive_given_no_disease * P_no_disease)\n",
    "\n",
    "# Bayes' theorem\n",
    "P_disease_given_positive = (P_positive_given_disease * P_disease) / P_positive\n",
    "\n",
    "# Print the result\n",
    "\n",
    "print(\"The probability of having the disease given a positive test result is={:.2f}\".format(P_disease_given_positive))"
   ]
  },
  {
   "cell_type": "markdown",
   "id": "25a80aa0",
   "metadata": {},
   "source": [
    "2. Write a program to implement the naïve Bayesian classifier without using scikit-learn library for the\n",
    "following sample training data set stored as a .CSV file. Calculate the accuracy, precision, and recall for your\n",
    "train/test data set. To classify ‘If the weather is sunny, then the Player should play or not’?"
   ]
  },
  {
   "cell_type": "code",
   "execution_count": 44,
   "id": "31fc0d6d",
   "metadata": {},
   "outputs": [
    {
     "name": "stdout",
     "output_type": "stream",
     "text": [
      "Accuracy: 0.7142857142857143\n",
      "Precision: 0.7142857142857143\n",
      "Recall: 1.0\n",
      "Probability of Player should play: 0.7142857142857143\n",
      "Probability of Player shouldn't play: 0.2857142857142857\n",
      "The best class is: Yes\n"
     ]
    }
   ],
   "source": [
    "import csv\n",
    "import math\n",
    "\n",
    "# Step 1: Load and preprocess the dataset\n",
    "def load_dataset(file_path):\n",
    "    with open(file_path, 'r') as file:\n",
    "        reader = csv.DictReader(file)\n",
    "        data = [row for row in reader]\n",
    "    return data\n",
    "\n",
    "def preprocess_data(data):\n",
    "    outlook_counts = {}\n",
    "    play_counts = {}\n",
    "    total_count = len(data)\n",
    "\n",
    "    for row in data:\n",
    "        outlook = row['outlook']\n",
    "        play = row['play']\n",
    "        if outlook not in outlook_counts:\n",
    "            outlook_counts[outlook] = 0\n",
    "        if play not in play_counts:\n",
    "            play_counts[play] = 0\n",
    "        outlook_counts[outlook] += 1\n",
    "        play_counts[play] += 1\n",
    "\n",
    "    return outlook_counts, play_counts, total_count\n",
    "\n",
    "# Step 2: Build the Naïve Bayesian classifier\n",
    "def calculate_probabilities(outlook_counts, play_counts, total_count):\n",
    "    outlook_probs = {}\n",
    "    play_probs = {}\n",
    "\n",
    "    for outlook, count in outlook_counts.items():\n",
    "        outlook_probs[outlook] = count / total_count\n",
    "\n",
    "    for play, count in play_counts.items():\n",
    "        play_probs[play] = count / total_count\n",
    "\n",
    "    return outlook_probs, play_probs\n",
    "\n",
    "# Step 3: Test the classifier on a test case\n",
    "def classify(outlook_probs, play_probs, test_outlook):\n",
    "    play_yes_prob = play_probs['Yes']\n",
    "    play_no_prob = play_probs['No']\n",
    "    outlook_prob = outlook_probs[test_outlook]\n",
    "\n",
    "    play_given_outlook_yes = play_yes_prob * outlook_prob\n",
    "    play_given_outlook_no = play_no_prob * outlook_prob\n",
    "\n",
    "    return 'Yes' if play_given_outlook_yes > play_given_outlook_no else 'No'\n",
    "\n",
    "# Step 4: Calculate accuracy, precision, and recall\n",
    "def evaluate_classifier(data, outlook_probs, play_probs):\n",
    "    true_positive = true_negative = false_positive = false_negative = 0\n",
    "\n",
    "    for row in data:\n",
    "        predicted_play = classify(outlook_probs, play_probs, row['outlook'])\n",
    "        actual_play = row['play']\n",
    "\n",
    "        if predicted_play == 'Yes' and actual_play == 'Yes':\n",
    "            true_positive += 1\n",
    "        elif predicted_play == 'No' and actual_play == 'No':\n",
    "            true_negative += 1\n",
    "        elif predicted_play == 'Yes' and actual_play == 'No':\n",
    "            false_positive += 1\n",
    "        elif predicted_play == 'No' and actual_play == 'Yes':\n",
    "            false_negative += 1\n",
    "\n",
    "    accuracy = (true_positive + true_negative) / len(data)\n",
    "    precision = true_positive / (true_positive + false_positive)\n",
    "    recall = true_positive / (true_positive + false_negative)\n",
    "\n",
    "    return accuracy, precision, recall\n",
    "\n",
    "# Step 5: Display probabilities and decide the best class\n",
    "def display_probabilities(test_outlook, play_probs):\n",
    "    play_prob = play_probs['Yes'] if test_outlook == 'Sunny' else play_probs['No']\n",
    "    no_play_prob = 1 - play_prob\n",
    "\n",
    "    print(f\"Probability of Player should play: {play_prob}\")\n",
    "    print(f\"Probability of Player shouldn't play: {no_play_prob}\")\n",
    "\n",
    "def decide_best_class(play_probs):\n",
    "    return 'Yes' if play_probs['Yes'] > play_probs['No'] else 'No'\n",
    "\n",
    "# Load and preprocess data\n",
    "data = load_dataset('nbc.csv')\n",
    "outlook_counts, play_counts, total_count = preprocess_data(data)\n",
    "\n",
    "# Calculate probabilities\n",
    "outlook_probs, play_probs = calculate_probabilities(outlook_counts, play_counts, total_count)\n",
    "\n",
    "# Evaluate the classifier\n",
    "accuracy, precision, recall = evaluate_classifier(data, outlook_probs, play_probs)\n",
    "\n",
    "# Print results\n",
    "print(f\"Accuracy: {accuracy}\")\n",
    "print(f\"Precision: {precision}\")\n",
    "print(f\"Recall: {recall}\")\n",
    "\n",
    "# Test on a new case: If the weather is sunny, then the Player should play or not\n",
    "test_outlook = 'Sunny'\n",
    "display_probabilities(test_outlook, play_probs)\n",
    "\n",
    "# Decide the best class\n",
    "best_class = decide_best_class(play_probs)\n",
    "print(f\"The best class is: {best_class}\")\n"
   ]
  },
  {
   "cell_type": "code",
   "execution_count": null,
   "id": "8c6579a5",
   "metadata": {},
   "outputs": [],
   "source": []
  }
 ],
 "metadata": {
  "kernelspec": {
   "display_name": "Python 3 (ipykernel)",
   "language": "python",
   "name": "python3"
  },
  "language_info": {
   "codemirror_mode": {
    "name": "ipython",
    "version": 3
   },
   "file_extension": ".py",
   "mimetype": "text/x-python",
   "name": "python",
   "nbconvert_exporter": "python",
   "pygments_lexer": "ipython3",
   "version": "3.10.12"
  }
 },
 "nbformat": 4,
 "nbformat_minor": 5
}
